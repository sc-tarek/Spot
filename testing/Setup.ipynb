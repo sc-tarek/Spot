{
 "cells": [
  {
   "attachments": {},
   "cell_type": "markdown",
   "id": "db5bf7bb",
   "metadata": {},
   "source": [
    "### Create virtual environment"
   ]
  },
  {
   "attachments": {},
   "cell_type": "markdown",
   "id": "de855ed6",
   "metadata": {},
   "source": [
    "System setup: https://dev.bostondynamics.com/docs/python/quickstart#system-setup"
   ]
  },
  {
   "cell_type": "code",
   "execution_count": null,
   "id": "297bdee0",
   "metadata": {},
   "outputs": [],
   "source": [
    "!py.exe -3.8 -m pip install virtualenv"
   ]
  },
  {
   "cell_type": "code",
   "execution_count": null,
   "id": "95a28933",
   "metadata": {},
   "outputs": [],
   "source": [
    "!py.exe -3.8 -m virtualenv spot_env"
   ]
  },
  {
   "attachments": {},
   "cell_type": "markdown",
   "id": "5996d4bc",
   "metadata": {},
   "source": [
    "### Download packages"
   ]
  },
  {
   "attachments": {},
   "cell_type": "markdown",
   "id": "c77cb8ae",
   "metadata": {},
   "source": [
    "Activate environment (PowerShell):\n",
    "\n",
    "spot_env\\Scripts\\activate"
   ]
  },
  {
   "cell_type": "code",
   "execution_count": null,
   "id": "514c088e",
   "metadata": {},
   "outputs": [],
   "source": [
    "# Install Spot Python packages\n",
    "!py.exe -3 -m pip install --upgrade bosdyn-client bosdyn-mission bosdyn-choreography-client"
   ]
  },
  {
   "attachments": {},
   "cell_type": "markdown",
   "id": "069dd261",
   "metadata": {},
   "source": [
    "### Verify your Spot packages installation"
   ]
  },
  {
   "cell_type": "code",
   "execution_count": 7,
   "id": "1293f7d8",
   "metadata": {},
   "outputs": [
    {
     "name": "stdout",
     "output_type": "stream",
     "text": [
      "bosdyn-api                 3.2.1.post1\n",
      "bosdyn-choreography-client 3.2.1.post1\n",
      "bosdyn-choreography-protos 3.2.1.post1\n",
      "bosdyn-client              3.2.1.post1\n",
      "bosdyn-core                3.2.1.post1\n",
      "bosdyn-mission             3.2.1.post1\n"
     ]
    },
    {
     "name": "stderr",
     "output_type": "stream",
     "text": [
      "\n",
      "[notice] A new release of pip available: 22.2.1 -> 22.3.1\n",
      "[notice] To update, run: python.exe -m pip install --upgrade pip\n"
     ]
    }
   ],
   "source": [
    "!pip list --format=columns | findstr bosdyn"
   ]
  },
  {
   "cell_type": "code",
   "execution_count": 8,
   "id": "cfd39a17",
   "metadata": {},
   "outputs": [],
   "source": [
    "import bosdyn.client"
   ]
  },
  {
   "cell_type": "code",
   "execution_count": 9,
   "id": "b0f4b6f9",
   "metadata": {},
   "outputs": [
    {
     "name": "stdout",
     "output_type": "stream",
     "text": [
      "Help on package bosdyn.client in bosdyn:\n",
      "\n",
      "NAME\n",
      "    bosdyn.client\n",
      "\n",
      "DESCRIPTION\n",
      "    The client library package.\n",
      "    Sets up some convenience imports for commonly used classes.\n",
      "\n",
      "PACKAGE CONTENTS\n",
      "    __main__\n",
      "    area_callback\n",
      "    area_callback_region_handler_base\n",
      "    area_callback_service_runner\n",
      "    area_callback_service_servicer\n",
      "    area_callback_service_utils\n",
      "    arm_surface_contact\n",
      "    async_tasks\n",
      "    auth\n",
      "    auto_return\n",
      "    autowalk\n",
      "    bddf\n",
      "    bddf_download\n",
      "    channel\n",
      "    command_line\n",
      "    common\n",
      "    data_acquisition\n",
      "    data_acquisition_helpers\n",
      "    data_acquisition_plugin\n",
      "    data_acquisition_plugin_service\n",
      "    data_acquisition_store\n",
      "    data_buffer\n",
      "    data_service\n",
      "    directory\n",
      "    directory_registration\n",
      "    docking\n",
      "    door\n",
      "    estop\n",
      "    exceptions\n",
      "    fault\n",
      "    frame_helpers\n",
      "    graph_nav\n",
      "    gripper_camera_param\n",
      "    image\n",
      "    image_service_helpers\n",
      "    ir_enable_disable\n",
      "    lease\n",
      "    lease_resource_hierarchy\n",
      "    lease_validator\n",
      "    license\n",
      "    local_grid\n",
      "    log_annotation\n",
      "    manipulation_api_client\n",
      "    map_processing\n",
      "    math_helpers\n",
      "    network_compute_bridge_client\n",
      "    payload\n",
      "    payload_registration\n",
      "    point_cloud\n",
      "    power\n",
      "    processors\n",
      "    ray_cast\n",
      "    recording\n",
      "    resources (package)\n",
      "    robot\n",
      "    robot_command\n",
      "    robot_id\n",
      "    robot_state\n",
      "    sdk\n",
      "    server_util\n",
      "    spot_cam (package)\n",
      "    spot_check\n",
      "    time_sync\n",
      "    token_cache\n",
      "    token_manager\n",
      "    util\n",
      "    world_object\n",
      "\n",
      "DATA\n",
      "    BOSDYN_RESOURCE_ROOT = r'C:\\Users\\QM962HE\\.bosdyn'\n",
      "\n",
      "FILE\n",
      "    c:\\users\\qm962he\\appdata\\local\\programs\\python\\python310\\lib\\site-packages\\bosdyn\\client\\__init__.py\n",
      "\n",
      "\n"
     ]
    }
   ],
   "source": [
    "help(bosdyn.client)"
   ]
  },
  {
   "attachments": {},
   "cell_type": "markdown",
   "id": "d3dc7339",
   "metadata": {},
   "source": [
    "### Query Spot"
   ]
  },
  {
   "attachments": {},
   "cell_type": "markdown",
   "id": "4b933b8b",
   "metadata": {},
   "source": [
    "- Power on Spot by holding the power button down until the fans start. Wait for the fans to turn off (and maybe 10-20 seconds after that)\n",
    "\n",
    "- Connect to Spot via wifi \n",
    "    - Name: spot-bd-23460010\n",
    "    - Password: m4k5...\n",
    "\n",
    "- Ping spot at 192.168.80.3"
   ]
  },
  {
   "cell_type": "code",
   "execution_count": 10,
   "id": "8455a4c8",
   "metadata": {},
   "outputs": [
    {
     "name": "stdout",
     "output_type": "stream",
     "text": [
      "\n",
      "Pinging 192.168.80.3 with 32 bytes of data:\n",
      "Reply from 192.168.80.3: bytes=32 time=3ms TTL=64\n",
      "Reply from 192.168.80.3: bytes=32 time=2ms TTL=64\n",
      "Reply from 192.168.80.3: bytes=32 time=3ms TTL=64\n",
      "Reply from 192.168.80.3: bytes=32 time=57ms TTL=64\n",
      "\n",
      "Ping statistics for 192.168.80.3:\n",
      "    Packets: Sent = 4, Received = 4, Lost = 0 (0% loss),\n",
      "Approximate round trip times in milli-seconds:\n",
      "    Minimum = 2ms, Maximum = 57ms, Average = 16ms\n"
     ]
    }
   ],
   "source": [
    "!ping 192.168.80.3"
   ]
  },
  {
   "attachments": {},
   "cell_type": "markdown",
   "id": "a30e4428",
   "metadata": {},
   "source": [
    "Request Spot robot’s ID"
   ]
  },
  {
   "cell_type": "code",
   "execution_count": 11,
   "id": "4e7ae023",
   "metadata": {},
   "outputs": [
    {
     "name": "stdout",
     "output_type": "stream",
     "text": [
      "spot-BD-23460010     000060207914A6000019            spot (V3)\n",
      " Software: 3.2.1 (04de5bc6bbe273bf5b52f43323de22cc4c568b03 2022-10-27 03:39:21)\n",
      "  Installed: 2022-10-27 04:29:19\n"
     ]
    }
   ],
   "source": [
    "!py.exe -3 -m bosdyn.client 192.168.80.3 id"
   ]
  },
  {
   "attachments": {},
   "cell_type": "markdown",
   "id": "7fd9b566",
   "metadata": {},
   "source": [
    "If this worked for you, SUCCESS! You are now successfully communicating with Spot via Python! Note that the output returned shows your Spot robot’s unique serial number, its nickname and robot type (Boston Dynamics has multiple robots), the software version, and install date."
   ]
  },
  {
   "attachments": {},
   "cell_type": "markdown",
   "id": "b7740e71",
   "metadata": {},
   "source": [
    "## Run examples"
   ]
  },
  {
   "attachments": {},
   "cell_type": "markdown",
   "id": "7cbc483e",
   "metadata": {},
   "source": [
    "Get a copy of the full SDK distribution from github: git clone https://github.com/boston-dynamics/spot-sdk.git"
   ]
  },
  {
   "attachments": {},
   "cell_type": "markdown",
   "id": "9302ebc6",
   "metadata": {},
   "source": [
    "Run an independent E-Stop"
   ]
  },
  {
   "cell_type": "markdown",
   "id": "1e5f9ca0",
   "metadata": {},
   "source": [
    "cd ~/spot-sdk/python/examples/estop # or wherever you installed Spot SDK\n",
    "\n",
    "py.exe -3 -m pip install -r requirements.txt # will install dependent packages\n",
    "\n",
    "py.exe -3 estop_gui.py 192.168.80.3"
   ]
  },
  {
   "attachments": {},
   "cell_type": "markdown",
   "id": "3f987531",
   "metadata": {},
   "source": [
    "Run Hello Spot"
   ]
  },
  {
   "attachments": {},
   "cell_type": "markdown",
   "id": "0bb2e02a",
   "metadata": {},
   "source": [
    "cd ./spot-sdk/python/examples/hello_spot # or wherever you installed Spot SDK\n",
    "\n",
    "py.exe -3 -m pip install -r requirements.txt # will install dependent packages\n",
    "\n",
    "py.exe -3 hello_spot.py 192.168.80.3"
   ]
  },
  {
   "attachments": {},
   "cell_type": "markdown",
   "id": "47626f96",
   "metadata": {},
   "source": [
    "Set global variables\n",
    "\n",
    "set-variable -Name \"BOSDYN_CLIENT_USERNAME\" -Value \"user\"\n",
    "\n",
    "set-variable -Name \"BOSDYN_CLIENT_PASSWORD\" -Value \"hhe262iz9zez\"\n",
    "\n",
    "py.exe -3 hello_spot.py 192.168.80.3 --user $BOSDYN_CLIENT_USERNAME --password $BOSDYN_CLIENT_PASSWORD"
   ]
  },
  {
   "cell_type": "markdown",
   "id": "6080effb",
   "metadata": {},
   "source": []
  }
 ],
 "metadata": {
  "kernelspec": {
   "display_name": "Python 3",
   "language": "python",
   "name": "python3"
  },
  "language_info": {
   "codemirror_mode": {
    "name": "ipython",
    "version": 3
   },
   "file_extension": ".py",
   "mimetype": "text/x-python",
   "name": "python",
   "nbconvert_exporter": "python",
   "pygments_lexer": "ipython3",
   "version": "3.8.3"
  },
  "toc": {
   "base_numbering": 1,
   "nav_menu": {},
   "number_sections": true,
   "sideBar": true,
   "skip_h1_title": false,
   "title_cell": "Table of Contents",
   "title_sidebar": "Contents",
   "toc_cell": false,
   "toc_position": {},
   "toc_section_display": true,
   "toc_window_display": false
  },
  "vscode": {
   "interpreter": {
    "hash": "143d1130412079558d580061fe29f03c0156357f3814a480fa4ef87c84098a86"
   }
  }
 },
 "nbformat": 4,
 "nbformat_minor": 5
}
