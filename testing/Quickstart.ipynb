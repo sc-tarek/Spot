{
 "cells": [
  {
   "attachments": {},
   "cell_type": "markdown",
   "id": "db5bf7bb",
   "metadata": {},
   "source": [
    "### Create virtual environment\n",
    "\n",
    "System setup: https://dev.bostondynamics.com/docs/python/quickstart#system-setup"
   ]
  },
  {
   "cell_type": "code",
   "execution_count": 16,
   "id": "297bdee0",
   "metadata": {},
   "outputs": [
    {
     "name": "stdout",
     "output_type": "stream",
     "text": [
      "Requirement already satisfied: virtualenv in c:\\users\\qm962he\\appdata\\local\\programs\\python\\python38\\lib\\site-packages (20.17.1)\n",
      "Requirement already satisfied: distlib<1,>=0.3.6 in c:\\users\\qm962he\\appdata\\local\\programs\\python\\python38\\lib\\site-packages (from virtualenv) (0.3.6)\n",
      "Requirement already satisfied: filelock<4,>=3.4.1 in c:\\users\\qm962he\\appdata\\local\\programs\\python\\python38\\lib\\site-packages (from virtualenv) (3.9.0)\n",
      "Requirement already satisfied: platformdirs<3,>=2.4 in c:\\users\\qm962he\\appdata\\local\\programs\\python\\python38\\lib\\site-packages (from virtualenv) (2.6.2)\n"
     ]
    },
    {
     "name": "stderr",
     "output_type": "stream",
     "text": [
      "WARNING: You are using pip version 19.2.3, however version 22.3.1 is available.\n",
      "You should consider upgrading via the 'python -m pip install --upgrade pip' command.\n"
     ]
    },
    {
     "name": "stdout",
     "output_type": "stream",
     "text": [
      "created virtual environment CPython3.8.3.final.0-64 in 2516ms\n",
      "  creator CPython3Windows(dest=C:\\Users\\QM962HE\\OneDrive - EY\\Tarek\\Internal Projects\\Boston Dynamics\\Spot\\Testing\\spot_env, clear=False, no_vcs_ignore=False, global=False)\n",
      "  seeder FromAppData(download=False, pip=bundle, setuptools=bundle, wheel=bundle, via=copy, app_data_dir=C:\\Users\\QM962HE\\AppData\\Local\\pypa\\virtualenv)\n",
      "    added seed packages: pip==22.3.1, setuptools==65.6.3, wheel==0.38.4\n",
      "  activators BashActivator,BatchActivator,FishActivator,NushellActivator,PowerShellActivator,PythonActivator\n"
     ]
    }
   ],
   "source": [
    "!py.exe -3.8 -m pip install virtualenv\n",
    "\n",
    "!py.exe -3.8 -m virtualenv spot_env"
   ]
  },
  {
   "attachments": {},
   "cell_type": "markdown",
   "id": "5996d4bc",
   "metadata": {},
   "source": [
    "### Download packages"
   ]
  },
  {
   "attachments": {},
   "cell_type": "markdown",
   "id": "c77cb8ae",
   "metadata": {},
   "source": [
    "Activate environment (PowerShell):\n",
    "\n",
    "spot_env\\Scripts\\activate"
   ]
  },
  {
   "cell_type": "code",
   "execution_count": null,
   "id": "514c088e",
   "metadata": {},
   "outputs": [],
   "source": [
    "# Install Spot Python packages\n",
    "!py.exe -3 -m pip install --upgrade bosdyn-client bosdyn-mission bosdyn-choreography-client -q"
   ]
  },
  {
   "cell_type": "code",
   "execution_count": 1,
   "id": "1293f7d8",
   "metadata": {},
   "outputs": [
    {
     "name": "stdout",
     "output_type": "stream",
     "text": [
      "bosdyn-api                 3.2.1.post1\n",
      "bosdyn-choreography-client 3.2.1.post1\n",
      "bosdyn-choreography-protos 3.2.1.post1\n",
      "bosdyn-client              3.2.1.post1\n",
      "bosdyn-core                3.2.1.post1\n",
      "bosdyn-mission             3.2.1.post1\n"
     ]
    }
   ],
   "source": [
    "# verify installation\n",
    "!py.exe -3 -m pip list --format=columns | findstr bosdyn"
   ]
  },
  {
   "cell_type": "code",
   "execution_count": 1,
   "id": "cfd39a17",
   "metadata": {},
   "outputs": [
    {
     "name": "stdout",
     "output_type": "stream",
     "text": [
      "Help on package bosdyn.client in bosdyn:\n",
      "\n",
      "NAME\n",
      "    bosdyn.client\n",
      "\n",
      "DESCRIPTION\n",
      "    The client library package.\n",
      "    Sets up some convenience imports for commonly used classes.\n",
      "\n",
      "PACKAGE CONTENTS\n",
      "    __main__\n",
      "    area_callback\n",
      "    area_callback_region_handler_base\n",
      "    area_callback_service_runner\n",
      "    area_callback_service_servicer\n",
      "    area_callback_service_utils\n",
      "    arm_surface_contact\n",
      "    async_tasks\n",
      "    auth\n",
      "    auto_return\n",
      "    autowalk\n",
      "    bddf\n",
      "    bddf_download\n",
      "    channel\n",
      "    command_line\n",
      "    common\n",
      "    data_acquisition\n",
      "    data_acquisition_helpers\n",
      "    data_acquisition_plugin\n",
      "    data_acquisition_plugin_service\n",
      "    data_acquisition_store\n",
      "    data_buffer\n",
      "    data_service\n",
      "    directory\n",
      "    directory_registration\n",
      "    docking\n",
      "    door\n",
      "    estop\n",
      "    exceptions\n",
      "    fault\n",
      "    frame_helpers\n",
      "    graph_nav\n",
      "    gripper_camera_param\n",
      "    image\n",
      "    image_service_helpers\n",
      "    ir_enable_disable\n",
      "    lease\n",
      "    lease_resource_hierarchy\n",
      "    lease_validator\n",
      "    license\n",
      "    local_grid\n",
      "    log_annotation\n",
      "    manipulation_api_client\n",
      "    map_processing\n",
      "    math_helpers\n",
      "    network_compute_bridge_client\n",
      "    payload\n",
      "    payload_registration\n",
      "    point_cloud\n",
      "    power\n",
      "    processors\n",
      "    ray_cast\n",
      "    recording\n",
      "    resources (package)\n",
      "    robot\n",
      "    robot_command\n",
      "    robot_id\n",
      "    robot_state\n",
      "    sdk\n",
      "    server_util\n",
      "    spot_cam (package)\n",
      "    spot_check\n",
      "    time_sync\n",
      "    token_cache\n",
      "    token_manager\n",
      "    util\n",
      "    world_object\n",
      "\n",
      "DATA\n",
      "    BOSDYN_RESOURCE_ROOT = r'C:\\Users\\QM962HE\\.bosdyn'\n",
      "\n",
      "FILE\n",
      "    c:\\users\\qm962he\\appdata\\local\\programs\\python\\python310\\lib\\site-packages\\bosdyn\\client\\__init__.py\n",
      "\n",
      "\n"
     ]
    }
   ],
   "source": [
    "import bosdyn.client\n",
    "\n",
    "help(bosdyn.client)"
   ]
  },
  {
   "attachments": {},
   "cell_type": "markdown",
   "id": "d3dc7339",
   "metadata": {},
   "source": [
    "### Query Spot"
   ]
  },
  {
   "attachments": {},
   "cell_type": "markdown",
   "id": "4b933b8b",
   "metadata": {},
   "source": [
    "- Power on Spot by holding the power button down until the fans start. Wait for the fans to turn off (and maybe 10-20 seconds after that)\n",
    "\n",
    "- Connect to Spot via wifi \n",
    "    - Name: spot-bd-23460010\n",
    "    - Password: m4k5...\n",
    "\n",
    "- Ping spot at 192.168.80.3"
   ]
  },
  {
   "cell_type": "code",
   "execution_count": 10,
   "id": "8455a4c8",
   "metadata": {},
   "outputs": [
    {
     "name": "stdout",
     "output_type": "stream",
     "text": [
      "\n",
      "Pinging 192.168.80.3 with 32 bytes of data:\n",
      "Reply from 192.168.80.3: bytes=32 time=3ms TTL=64\n",
      "Reply from 192.168.80.3: bytes=32 time=2ms TTL=64\n",
      "Reply from 192.168.80.3: bytes=32 time=3ms TTL=64\n",
      "Reply from 192.168.80.3: bytes=32 time=57ms TTL=64\n",
      "\n",
      "Ping statistics for 192.168.80.3:\n",
      "    Packets: Sent = 4, Received = 4, Lost = 0 (0% loss),\n",
      "Approximate round trip times in milli-seconds:\n",
      "    Minimum = 2ms, Maximum = 57ms, Average = 16ms\n"
     ]
    }
   ],
   "source": [
    "!ping 192.168.80.3"
   ]
  },
  {
   "attachments": {},
   "cell_type": "markdown",
   "id": "a30e4428",
   "metadata": {},
   "source": [
    "Request Spot robot’s ID"
   ]
  },
  {
   "cell_type": "code",
   "execution_count": 1,
   "id": "4e7ae023",
   "metadata": {},
   "outputs": [
    {
     "name": "stdout",
     "output_type": "stream",
     "text": [
      "spot-BD-23460010     000060207914A6000019            spot (V3)\n",
      " Software: 3.2.1 (04de5bc6bbe273bf5b52f43323de22cc4c568b03 2022-10-27 03:39:21)\n",
      "  Installed: 2022-10-27 04:29:19\n"
     ]
    }
   ],
   "source": [
    "!py.exe -3 -m bosdyn.client 192.168.80.3 id"
   ]
  },
  {
   "attachments": {},
   "cell_type": "markdown",
   "id": "7fd9b566",
   "metadata": {},
   "source": [
    "If this worked for you, SUCCESS! You are now successfully communicating with Spot via Python! Note that the output returned shows your Spot robot’s unique serial number, its nickname and robot type (Boston Dynamics has multiple robots), the software version, and install date."
   ]
  },
  {
   "attachments": {},
   "cell_type": "markdown",
   "id": "b7740e71",
   "metadata": {},
   "source": [
    "## Run examples"
   ]
  },
  {
   "attachments": {},
   "cell_type": "markdown",
   "id": "7cbc483e",
   "metadata": {},
   "source": [
    "Get a copy of the full SDK distribution from github: git clone https://github.com/boston-dynamics/spot-sdk.git"
   ]
  },
  {
   "attachments": {},
   "cell_type": "markdown",
   "id": "9302ebc6",
   "metadata": {},
   "source": [
    "### Run an independent E-Stop"
   ]
  },
  {
   "attachments": {},
   "cell_type": "markdown",
   "id": "1e5f9ca0",
   "metadata": {},
   "source": [
    "spot_env\\Scripts\\activate\n",
    "\n",
    "cd ./spot-sdk/python/examples/estop # or wherever you installed Spot SDK\n",
    "\n",
    "py.exe -3 -m pip install -r requirements.txt # will install dependent packages"
   ]
  },
  {
   "cell_type": "code",
   "execution_count": null,
   "id": "637f61b3",
   "metadata": {},
   "outputs": [],
   "source": [
    "!py.exe -3 estop_gui.py 192.168.80.3"
   ]
  },
  {
   "attachments": {},
   "cell_type": "markdown",
   "id": "3f987531",
   "metadata": {},
   "source": [
    "### Hello Spot"
   ]
  },
  {
   "attachments": {},
   "cell_type": "markdown",
   "id": "0bb2e02a",
   "metadata": {},
   "source": [
    "spot_env\\Scripts\\activate\n",
    "\n",
    "cd ./spot-sdk/python/examples/hello_spot \n",
    "\n",
    "py.exe -3 -m pip install -r requirements.txt"
   ]
  },
  {
   "cell_type": "code",
   "execution_count": null,
   "id": "45dec945",
   "metadata": {},
   "outputs": [],
   "source": [
    "!py.exe -3 hello_spot.py 192.168.80.3"
   ]
  },
  {
   "attachments": {},
   "cell_type": "markdown",
   "id": "de7bc388",
   "metadata": {},
   "source": [
    "### Stance in place\n",
    "\n",
    "Use the stance function to reposition the robot’s feet. Pass values to arguments –x-offset and –y-offset to adjust the change in stance."
   ]
  },
  {
   "attachments": {},
   "cell_type": "markdown",
   "id": "b9ce5756",
   "metadata": {},
   "source": [
    "spot_env\\Scripts\\activate\n",
    "\n",
    "cd ./spot-sdk/python/examples/stance \n",
    "\n",
    "py.exe -3 -m pip install -r requirements.txt "
   ]
  },
  {
   "cell_type": "code",
   "execution_count": null,
   "id": "0c38bd9c",
   "metadata": {},
   "outputs": [],
   "source": [
    "!py.exe -3 stance_in_place.py 192.168.80.3 --x-offset 0.3 --y-offset 0.1"
   ]
  },
  {
   "attachments": {},
   "cell_type": "markdown",
   "id": "1a8c007c",
   "metadata": {},
   "source": [
    "### Frame trajectory\n",
    "\n",
    "spot_env\\Scripts\\activate\n",
    "\n",
    "cd ./spot-sdk/python/examples/frame_trajectory_command \n",
    "\n",
    "py.exe -3 -m pip install -r requirements.txt "
   ]
  },
  {
   "cell_type": "code",
   "execution_count": null,
   "id": "f35f34a7",
   "metadata": {},
   "outputs": [],
   "source": [
    "# move forward 1 meter\n",
    "py.exe -3 frame_trajectory_command.py 192.168.80.3 --dx 1"
   ]
  },
  {
   "cell_type": "code",
   "execution_count": null,
   "id": "93e59086",
   "metadata": {},
   "outputs": [],
   "source": [
    "# move backwards 1 meter\n",
    "py.exe -3 frame_trajectory_command.py 192.168.80.3 --dx -1"
   ]
  },
  {
   "cell_type": "code",
   "execution_count": null,
   "id": "ad3d51a4",
   "metadata": {},
   "outputs": [],
   "source": [
    "# move left 1 meter\n",
    "py.exe -3 frame_trajectory_command.py 192.168.80.3 --dy 1"
   ]
  },
  {
   "cell_type": "code",
   "execution_count": null,
   "id": "d31449a9",
   "metadata": {},
   "outputs": [],
   "source": [
    "# move right 1 meter\n",
    "py.exe -3 frame_trajectory_command.py 192.168.80.3 --dy -1"
   ]
  },
  {
   "attachments": {},
   "cell_type": "markdown",
   "id": "77c0dc36",
   "metadata": {},
   "source": [
    "### Spot light\n",
    "\n",
    "This example will allow Spot to respond to a light shining in its front left camera. The following describes what to expect:\n",
    "- with the robot sitting, shine a light into the front left camera, Spot should stand up\n",
    "- shine a light into the front left camera again, Spot should start tilting to follow the light\n",
    "- remove the light, Spot should sit down\n",
    "\n",
    "NOTE: Both the light detection and controller are very crude. One needs to have a very steady hand to prevent the robot from “seeing” other bright lights in the front left camera.\n",
    "\n",
    "spot_env\\Scripts\\activate\n",
    "\n",
    "cd ./spot-sdk/python/examples/spot_light \n",
    "\n",
    "py.exe -3 -m pip install -r requirements.txt "
   ]
  },
  {
   "cell_type": "code",
   "execution_count": null,
   "id": "6458a3ba",
   "metadata": {},
   "outputs": [],
   "source": [
    "py.exe -3 spot_light.py 192.168.80.3"
   ]
  },
  {
   "attachments": {},
   "cell_type": "markdown",
   "id": "bf1a48ba",
   "metadata": {},
   "source": [
    "### Upload choreographed sequence\n",
    "\n",
    "spot_env\\Scripts\\activate\n",
    "\n",
    "cd ./spot-sdk/python/examples/upload_choreographed_sequence\n",
    "\n",
    "py.exe -3 -m pip install -r requirements.txt "
   ]
  },
  {
   "cell_type": "code",
   "execution_count": null,
   "id": "9760eed7",
   "metadata": {},
   "outputs": [],
   "source": [
    "!py.exe -3 upload_choreographed_sequence.py 192.168.80.3"
   ]
  },
  {
   "attachments": {},
   "cell_type": "markdown",
   "id": "888d0d82",
   "metadata": {},
   "source": [
    "### Arm grasp\n",
    "\n",
    "This example program shows using the ManipulationApiClient to request an automated grasp. It demonstrates how to\n",
    "initialize the SDK to talk to robot, take and present a picture from a user specified image source, allows the\n",
    "user to click the image to designate the item to pick, and request the robot to pick up the selected item. There\n",
    "are command line arguments available for controlling the grasp.\n",
    "\n",
    "spot_env\\Scripts\\activate\n",
    "\n",
    "cd ./spot-sdk/python/examples/arm_grasp\n",
    "\n",
    "py.exe -3 -m pip install -r requirements.txt "
   ]
  },
  {
   "cell_type": "code",
   "execution_count": null,
   "id": "265a4b93",
   "metadata": {},
   "outputs": [],
   "source": [
    "!py.exe -3 arm_grasp.py 192.168.80.3"
   ]
  },
  {
   "attachments": {},
   "cell_type": "markdown",
   "id": "1167c192",
   "metadata": {},
   "source": [
    "### Remote mission service\n",
    "\n",
    "This example demonstrates how to\n",
    "\n",
    "- Run a gRPC server that implements the RemoteMissionService service definition\n",
    "\n",
    "- Connect a RemoteClient directly to that server.\n",
    "\n",
    "- Build a mission that talks to that server.\n",
    "\n",
    "This is the new pattern used by “callback” actions of Autowalk missions."
   ]
  },
  {
   "attachments": {},
   "cell_type": "markdown",
   "id": "1786ea25",
   "metadata": {},
   "source": [
    "spot_env\\Scripts\\activate\n",
    "\n",
    "cd ./spot-sdk/python/examples/remote_mission_service\n",
    "\n",
    "py.exe -3 -m pip install -r requirements.txt "
   ]
  },
  {
   "cell_type": "code",
   "execution_count": null,
   "id": "85b873e1",
   "metadata": {},
   "outputs": [],
   "source": [
    "# start remote mission server on laptop over wifi\n",
    "!py.exe -3 hello_world_mission_service.py robot --host-ip localhost --port 50051 192.168.80.3"
   ]
  },
  {
   "attachments": {},
   "cell_type": "markdown",
   "id": "7df2bcc4",
   "metadata": {},
   "source": [
    "Record an Autowalk mission with a callback\n",
    "\n",
    "You must start the server (Step one) prior to recording the Autowalk mission. On the Tablet, select Actions from the hamburger menu. You should see the callback listed, such as “Hello World Callback”. If you click on Callback Default, you can name the callback and configure any user variables you’d like to send to the server.\n",
    "\n",
    "Stand up Spot and select Autowalk. Move the robot a bit and then select the + sign to create an action waypoint. Select your callback. Finish the recording and playback."
   ]
  },
  {
   "attachments": {},
   "cell_type": "markdown",
   "id": "d9fb7753",
   "metadata": {},
   "source": [
    "### Set global variables"
   ]
  },
  {
   "attachments": {},
   "cell_type": "markdown",
   "id": "47626f96",
   "metadata": {},
   "source": [
    "(not working yet)\n",
    "\n",
    "set-variable -Name \"BOSDYN_CLIENT_USERNAME\" -Value \"user\"\n",
    "\n",
    "set-variable -Name \"BOSDYN_CLIENT_PASSWORD\" -Value \"hhe262iz9zez\"\n",
    "\n",
    "set-variable -Name \"ROBOT_IP\" -Value \"192.168.80.3\"\n",
    "\n",
    "py.exe -3 hello_spot.py 192.168.80.3 --user $BOSDYN_CLIENT_USERNAME --password $BOSDYN_CLIENT_PASSWORD"
   ]
  }
 ],
 "metadata": {
  "kernelspec": {
   "display_name": "spot_env",
   "language": "python",
   "name": "python3"
  },
  "language_info": {
   "codemirror_mode": {
    "name": "ipython",
    "version": 3
   },
   "file_extension": ".py",
   "mimetype": "text/x-python",
   "name": "python",
   "nbconvert_exporter": "python",
   "pygments_lexer": "ipython3",
   "version": "3.8.3"
  },
  "toc": {
   "base_numbering": 1,
   "nav_menu": {},
   "number_sections": true,
   "sideBar": true,
   "skip_h1_title": false,
   "title_cell": "Table of Contents",
   "title_sidebar": "Contents",
   "toc_cell": false,
   "toc_position": {},
   "toc_section_display": true,
   "toc_window_display": false
  },
  "vscode": {
   "interpreter": {
    "hash": "cffa7fb7b7110771d43abea2be4fe4662abf4da7445acb0b73f240b9bd3e34e5"
   }
  }
 },
 "nbformat": 4,
 "nbformat_minor": 5
}
