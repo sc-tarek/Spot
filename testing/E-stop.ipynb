{
 "cells": [
  {
   "attachments": {},
   "cell_type": "markdown",
   "metadata": {},
   "source": [
    "## E-stop"
   ]
  },
  {
   "attachments": {},
   "cell_type": "markdown",
   "metadata": {},
   "source": [
    "cd ./spot-sdk/python/examples/estop # or wherever you installed Spot SDK\n",
    "\n",
    "py.exe -3 -m pip install -r requirements.txt # will install dependent packages\n",
    "\n",
    "py.exe -3 estop_gui.py 192.168.80.3"
   ]
  },
  {
   "attachments": {},
   "cell_type": "markdown",
   "metadata": {},
   "source": [
    "- User: user\n",
    "\n",
    "- Password: hhe262iz9zez"
   ]
  },
  {
   "attachments": {},
   "cell_type": "markdown",
   "metadata": {},
   "source": [
    "!py.exe -3 estop_gui.py 192.168.80.3 --username $BOSDYN_CLIENT_USERNAME --password $BOSDYN_CLIENT_PASSWORD"
   ]
  }
 ],
 "metadata": {
  "kernelspec": {
   "display_name": "spot_env",
   "language": "python",
   "name": "python3"
  },
  "language_info": {
   "name": "python",
   "version": "3.8.3 (tags/v3.8.3:6f8c832, May 13 2020, 22:37:02) [MSC v.1924 64 bit (AMD64)]"
  },
  "orig_nbformat": 4,
  "vscode": {
   "interpreter": {
    "hash": "c5b95e07e584a552ab91830e7428eac6cf64cd90f5d7516d86d9f58c7728a2ba"
   }
  }
 },
 "nbformat": 4,
 "nbformat_minor": 2
}
