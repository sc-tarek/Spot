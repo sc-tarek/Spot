{
 "cells": [
  {
   "attachments": {},
   "cell_type": "markdown",
   "metadata": {},
   "source": [
    "## E-stop"
   ]
  },
  {
   "attachments": {},
   "cell_type": "markdown",
   "metadata": {},
   "source": [
    "cd ./spot-sdk/python/examples/estop # or wherever you installed Spot SDK\n",
    "\n",
    "py.exe -3 -m pip install -r requirements.txt # will install dependent packages\n",
    "\n",
    "py.exe -3 estop_gui.py 192.168.80.3"
   ]
  },
  {
   "attachments": {},
   "cell_type": "markdown",
   "metadata": {},
   "source": [
    "- User: user\n",
    "\n",
    "- Password: hhe262iz9zez"
   ]
  },
  {
   "attachments": {},
   "cell_type": "markdown",
   "metadata": {},
   "source": [
    "!py.exe -3 estop_gui.py 192.168.80.3 --username $BOSDYN_CLIENT_USERNAME --password $BOSDYN_CLIENT_PASSWORD"
   ]
  }
 ],
 "metadata": {
  "kernelspec": {
   "display_name": "Python 3",
   "language": "python",
   "name": "python3"
  },
  "language_info": {
   "name": "python",
   "version": "3.10.4 (tags/v3.10.4:9d38120, Mar 23 2022, 23:13:41) [MSC v.1929 64 bit (AMD64)]"
  },
  "orig_nbformat": 4,
  "vscode": {
   "interpreter": {
    "hash": "47031c410e4fce17af217790c54d45c55def99c57f792521758458a8630b162e"
   }
  }
 },
 "nbformat": 4,
 "nbformat_minor": 2
}
