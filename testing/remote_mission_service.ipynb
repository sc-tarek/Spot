{
 "cells": [
  {
   "cell_type": "markdown",
   "metadata": {},
   "source": [
    "RUN AND INTERACT WITH A REMOTE MISSION SERVICE\n",
    "\n",
    "https://dev.bostondynamics.com/python/examples/remote_mission_service/readme\n",
    "\n",
    "This example demonstrates how to\n",
    "\n",
    "1. Run a gRPC server that implements the RemoteMissionService service definition\n",
    "\n",
    "2. Connect a RemoteClient directly to that server.\n",
    "\n",
    "3. Build a mission that talks to that server.\n",
    "\n",
    "This is the new pattern used by “callback” actions of Autowalk missions."
   ]
  },
  {
   "attachments": {},
   "cell_type": "markdown",
   "id": "1786ea25",
   "metadata": {},
   "source": [
    "(written for mac)\n",
    "\n",
    "cd spot-sdk/python/examples/remote_mission_service\n",
    "\n",
    "python3 -m pip install -r requirements.txt"
   ]
  },
  {
   "cell_type": "code",
   "execution_count": null,
   "metadata": {},
   "outputs": [],
   "source": [
    "# running without a robot - on success, you see service logs appear in terminal\n",
    "!python3 hello_world_mission_service.py local --port 50051"
   ]
  },
  {
   "cell_type": "markdown",
   "metadata": {},
   "source": [
    "Connect to Spot's wifi with tablet and laptop. Disable firewall: sudo ufw disable"
   ]
  },
  {
   "cell_type": "code",
   "execution_count": null,
   "metadata": {},
   "outputs": [],
   "source": [
    "# get host ip address of computer on spot's wifi\n",
    "!python3 -m bosdyn.client 192.168.80.3 self-ip"
   ]
  },
  {
   "cell_type": "markdown",
   "metadata": {},
   "source": [
    "Result: 192.168.80.101"
   ]
  },
  {
   "cell_type": "code",
   "execution_count": null,
   "id": "85b873e1",
   "metadata": {},
   "outputs": [],
   "source": [
    "# start remote mission server\n",
    "!python hello_world_mission_service.py robot --host-ip 192.168.80.101 192.168.80.3"
   ]
  },
  {
   "attachments": {},
   "cell_type": "markdown",
   "id": "7df2bcc4",
   "metadata": {},
   "source": [
    "Record an Autowalk mission with a callback\n",
    "\n",
    "On the Tablet, select Actions from the hamburger menu. You should see the callback listed, such as “Hello World Callback”. If you click on Callback Default, you can name the callback and configure any user variables you’d like to send to the server.\n",
    "\n",
    "Stand up Spot and select Autowalk. Move the robot a bit and then select the + sign to create an action waypoint. Select your callback. Finish the recording and playback."
   ]
  },
  {
   "cell_type": "code",
   "execution_count": null,
   "metadata": {},
   "outputs": [],
   "source": []
  }
 ],
 "metadata": {
  "language_info": {
   "name": "python"
  },
  "orig_nbformat": 4
 },
 "nbformat": 4,
 "nbformat_minor": 2
}
