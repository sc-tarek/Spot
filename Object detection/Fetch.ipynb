{
 "cells": [
  {
   "attachments": {},
   "cell_type": "markdown",
   "metadata": {},
   "source": [
    "# Playing Fetch with Spot"
   ]
  },
  {
   "attachments": {},
   "cell_type": "markdown",
   "metadata": {},
   "source": [
    "The goal of this script is to add pretrained models to spot which can detect objects.\n",
    "This should allow a user to play fetch with spot."
   ]
  },
  {
   "attachments": {},
   "cell_type": "markdown",
   "metadata": {},
   "source": [
    "## Collect Images"
   ]
  },
  {
   "attachments": {},
   "cell_type": "markdown",
   "metadata": {},
   "source": [
    "Our goal is to collect images of the dog in as many environments as possible."
   ]
  },
  {
   "attachments": {},
   "cell_type": "markdown",
   "metadata": {},
   "source": [
    "Activate environment (PowerShell):\n",
    "\n",
    "spot_env\\Scripts\\activate"
   ]
  },
  {
   "cell_type": "code",
   "execution_count": 1,
   "metadata": {},
   "outputs": [],
   "source": [
    "# Install OpenCV's python bindings in your virtualenv:\n",
    "!py.exe -3 -m pip install opencv-python==4.5.* -q\n",
    "\n",
    "# Install numpy\n",
    "!pip install numpy -q"
   ]
  },
  {
   "attachments": {},
   "cell_type": "markdown",
   "metadata": {},
   "source": [
    "cd ./Object detection/fetch"
   ]
  },
  {
   "cell_type": "code",
   "execution_count": null,
   "metadata": {},
   "outputs": [],
   "source": [
    "# Running our code to capture images\n",
    "!py.exe -3 capture_images.py 192.168.80.3 --image-source right_fisheye_image --folder dogtoy/images"
   ]
  },
  {
   "attachments": {},
   "cell_type": "markdown",
   "metadata": {},
   "source": [
    "## Label Images\n",
    "\n",
    "To label our images, we’ll use an open source off-the-shelf labeling program. "
   ]
  },
  {
   "cell_type": "code",
   "execution_count": 4,
   "metadata": {},
   "outputs": [],
   "source": [
    "!py.exe -3 -m pip install labelme -q"
   ]
  },
  {
   "cell_type": "code",
   "execution_count": 6,
   "metadata": {},
   "outputs": [
    {
     "name": "stderr",
     "output_type": "stream",
     "text": [
      "Traceback (most recent call last):\n",
      "  File \"C:\\Users\\AD655YE\\AppData\\Local\\Programs\\Python\\Python310\\lib\\runpy.py\", line 196, in _run_module_as_main\n",
      "    return _run_code(code, main_globals, None,\n",
      "  File \"C:\\Users\\AD655YE\\AppData\\Local\\Programs\\Python\\Python310\\lib\\runpy.py\", line 86, in _run_code\n",
      "    exec(code, run_globals)\n",
      "  File \"C:\\Users\\AD655YE\\AppData\\Local\\Programs\\Python\\Python310\\Scripts\\labelme.exe\\__main__.py\", line 4, in <module>\n",
      "  File \"C:\\Users\\AD655YE\\AppData\\Local\\Programs\\Python\\Python310\\lib\\site-packages\\labelme\\__init__.py\", line 25, in <module>\n",
      "    from labelme.label_file import LabelFile\n",
      "  File \"C:\\Users\\AD655YE\\AppData\\Local\\Programs\\Python\\Python310\\lib\\site-packages\\labelme\\label_file.py\", line 7, in <module>\n",
      "    import PIL.Image\n",
      "ModuleNotFoundError: No module named 'PIL'\n"
     ]
    }
   ],
   "source": [
    "!labelme"
   ]
  },
  {
   "attachments": {},
   "cell_type": "markdown",
   "metadata": {},
   "source": [
    "In the labelImg display, open the image directory with File > Open Dir\n",
    "\n",
    "The main keys we'll use are:\n",
    "- d     Next image\n",
    "- a     Previous image\n",
    "- w     Create a box\n",
    "- del\tDelete the selected box\n",
    "\n",
    "Use d to get to an image that has the dog toy in it. Press w then click-and-drag to make a box on the toy. Enter dogtoy into the pop-up and press OK.\n",
    "\n",
    "Tip: If the box refuses to be a rectangle, press Ctrl to disable that mode."
   ]
  },
  {
   "cell_type": "code",
   "execution_count": null,
   "metadata": {},
   "outputs": [],
   "source": []
  },
  {
   "attachments": {},
   "cell_type": "markdown",
   "metadata": {},
   "source": [
    "## Training the model"
   ]
  },
  {
   "attachments": {},
   "cell_type": "markdown",
   "metadata": {},
   "source": [
    "#### Installations"
   ]
  },
  {
   "attachments": {},
   "cell_type": "markdown",
   "metadata": {},
   "source": [
    "Install NVIDIA drivers, CUDA, and cuDNN"
   ]
  },
  {
   "attachments": {},
   "cell_type": "markdown",
   "metadata": {},
   "source": [
    "- <font color='Yellow'>What is NVIDIA?</font>\n",
    "\n",
    "NVIDIA is known for developing integrated circuits, which are used in everything from electronic game consoles to personal computers (PCs). The company is a leading manufacturer of high-end graphics processing units (GPUs).\n",
    "\n",
    "A driver is a software that enables the operating system to communicate with hardware or a device. Thus, for an NVIDIA graphics driver, it allows the OS to communicate with the video card, ensuring that it functions properly.\n",
    "\n",
    "You need to have a real, physical NVIDIA graphics card in order to install NVIDIA drivers.\n",
    "\n",
    "Link: https://helpx.adobe.com/x-productkb/multi/drivers-video-win-nvidia.html\n",
    "\n",
    "- <font color='Yellow'>What is CUDA?</font>\n",
    "\n",
    "NVIDIA provides something called the Compute Unified Device Architecture (CUDA), which is crucial for supporting the various deep learning applications. \n",
    "\n",
    "CUDA is a framework that allows people with a Nvidia Graphics Card to use GPU acceleration when it comes to deep learning. \n",
    "\n",
    "Link: https://developer.nvidia.com/cuda-downloads\n",
    "\n",
    "- <font color='Yellow'>What is cuDNN?</font>\n",
    "\n",
    "The cuDNN library is a library optimized for CUDA containing GPU implementations. Think of cuDNN as a library for Deep Learning using CUDA and CUDA as a way to talk to the GPU.\n",
    "\n",
    "Link: https://docs.nvidia.com/deeplearning/cudnn/install-guide/index.html\n"
   ]
  },
  {
   "attachments": {},
   "cell_type": "markdown",
   "metadata": {},
   "source": [
    "Install TensorFlow"
   ]
  },
  {
   "attachments": {},
   "cell_type": "markdown",
   "metadata": {},
   "source": [
    "Activate virtual environment (copy/paste to terminal):\n",
    "\n",
    "spot_env\\Scripts\\activate"
   ]
  },
  {
   "cell_type": "code",
   "execution_count": 9,
   "metadata": {},
   "outputs": [
    {
     "name": "stderr",
     "output_type": "stream",
     "text": [
      "ERROR: Could not find a version that satisfies the requirement tensorflow==2.3.1 (from versions: 2.8.0rc1, 2.8.0, 2.8.1, 2.8.2, 2.8.3, 2.8.4, 2.9.0rc0, 2.9.0rc1, 2.9.0rc2, 2.9.0, 2.9.1, 2.9.2, 2.9.3, 2.10.0rc0, 2.10.0rc1, 2.10.0rc2, 2.10.0rc3, 2.10.0, 2.10.1, 2.11.0rc0, 2.11.0rc1, 2.11.0rc2, 2.11.0)\n",
      "ERROR: No matching distribution found for tensorflow==2.3.1\n"
     ]
    }
   ],
   "source": [
    "# Tensorflow likes to install a non-GUI version of OpenCV, which will cause us problems later\n",
    "# We can safely uninstall it because we already installed OpenCV.\n",
    "\n",
    "!py.exe -3 -m pip install --upgrade pip\n",
    "!py.exe -3 -m pip install tensorflow==2.3.1 tensorboard==2.3.0 tf-models-official==2.3.0 pycocotools lvis\n",
    "!py.exe -3 -m pip uninstall opencv-python-headless"
   ]
  },
  {
   "cell_type": "code",
   "execution_count": 4,
   "metadata": {},
   "outputs": [
    {
     "ename": "ModuleNotFoundError",
     "evalue": "No module named 'tensorflow'",
     "output_type": "error",
     "traceback": [
      "\u001b[1;31m---------------------------------------------------------------------------\u001b[0m",
      "\u001b[1;31mModuleNotFoundError\u001b[0m                       Traceback (most recent call last)",
      "Cell \u001b[1;32mIn[4], line 3\u001b[0m\n\u001b[0;32m      1\u001b[0m \u001b[39m# Test TensorFlow and CUDA installation (you should have at least 1 GPU as a result):\u001b[39;00m\n\u001b[1;32m----> 3\u001b[0m \u001b[39mimport\u001b[39;00m \u001b[39mtensorflow\u001b[39;00m \u001b[39mas\u001b[39;00m \u001b[39mtf\u001b[39;00m\n\u001b[0;32m      4\u001b[0m \u001b[39mprint\u001b[39m(\u001b[39m\"\u001b[39m\u001b[39mNum GPUs Available: \u001b[39m\u001b[39m\"\u001b[39m, \u001b[39mlen\u001b[39m(tf\u001b[39m.\u001b[39mconfig\u001b[39m.\u001b[39mlist_physical_devices(\u001b[39m'\u001b[39m\u001b[39mGPU\u001b[39m\u001b[39m'\u001b[39m)))\n",
      "\u001b[1;31mModuleNotFoundError\u001b[0m: No module named 'tensorflow'"
     ]
    }
   ],
   "source": [
    "# Test TensorFlow and CUDA installation (you should have at least 1 GPU as a result):\n",
    "\n",
    "import tensorflow as tf\n",
    "print(\"Num GPUs Available: \", len(tf.config.list_physical_devices('GPU')))"
   ]
  },
  {
   "attachments": {},
   "cell_type": "markdown",
   "metadata": {},
   "source": [
    "Install TensorFlow Object Detection API"
   ]
  },
  {
   "cell_type": "code",
   "execution_count": null,
   "metadata": {},
   "outputs": [],
   "source": []
  }
 ],
 "metadata": {
  "kernelspec": {
   "display_name": "spot_env",
   "language": "python",
   "name": "python3"
  },
  "language_info": {
   "codemirror_mode": {
    "name": "ipython",
    "version": 3
   },
   "file_extension": ".py",
   "mimetype": "text/x-python",
   "name": "python",
   "nbconvert_exporter": "python",
   "pygments_lexer": "ipython3",
   "version": "3.8.3"
  },
  "orig_nbformat": 4,
  "vscode": {
   "interpreter": {
    "hash": "cffa7fb7b7110771d43abea2be4fe4662abf4da7445acb0b73f240b9bd3e34e5"
   }
  }
 },
 "nbformat": 4,
 "nbformat_minor": 2
}
