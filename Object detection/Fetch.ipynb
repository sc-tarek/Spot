{
 "cells": [
  {
   "attachments": {},
   "cell_type": "markdown",
   "metadata": {},
   "source": [
    "# **Playing Fetch with Spot**\n",
    "\n",
    "The goal of this script is to add pretrained models to spot which can detect objects.\n",
    "This should allow a user to play fetch with spot."
   ]
  },
  {
   "attachments": {},
   "cell_type": "markdown",
   "metadata": {},
   "source": [
    "## Collect Images\n",
    "\n",
    "Our goal is to collect images of the dog in as many environments as possible."
   ]
  },
  {
   "cell_type": "code",
   "execution_count": 1,
   "metadata": {},
   "outputs": [],
   "source": [
    "# Activate environment (PowerShell): spot_env\\Scripts\\activate\n",
    "\n",
    "# Install OpenCV's python bindings in your virtualenv:\n",
    "!py.exe -3 -m pip install opencv-python==4.5.* -q\n",
    "\n",
    "# Install numpy\n",
    "!pip install numpy -q\n",
    "\n",
    "# cd ./Object detection/fetch\n",
    "\n",
    "# Running our code to capture images\n",
    "!py.exe -3 capture_images.py 192.168.80.3 --image-source right_fisheye_image --folder dogtoy/images"
   ]
  },
  {
   "attachments": {},
   "cell_type": "markdown",
   "metadata": {},
   "source": [
    "## Label Images\n",
    "\n",
    "To label our images, we’ll use an open source off-the-shelf labeling program. "
   ]
  },
  {
   "cell_type": "code",
   "execution_count": 4,
   "metadata": {},
   "outputs": [],
   "source": [
    "!py.exe -3 -m pip install labelme -q\n",
    "!labelme"
   ]
  },
  {
   "attachments": {},
   "cell_type": "markdown",
   "metadata": {},
   "source": [
    "In the labelImg display, open the image directory with File > Open Dir\n",
    "\n",
    "The main keys we'll use are:\n",
    "- d     Next image\n",
    "- a     Previous image\n",
    "- w     Create a box\n",
    "- del\tDelete the selected box\n",
    "\n",
    "Use d to get to an image that has the dog toy in it. Press w then click-and-drag to make a box on the toy. Enter dogtoy into the pop-up and press OK.\n",
    "\n",
    "Tip: If the box refuses to be a rectangle, press Ctrl to disable that mode."
   ]
  },
  {
   "attachments": {},
   "cell_type": "markdown",
   "metadata": {},
   "source": [
    "## Training the model"
   ]
  },
  {
   "attachments": {},
   "cell_type": "markdown",
   "metadata": {},
   "source": [
    "#### Installations"
   ]
  },
  {
   "attachments": {},
   "cell_type": "markdown",
   "metadata": {},
   "source": [
    "Install NVIDIA drivers, CUDA, and cuDNN"
   ]
  },
  {
   "attachments": {},
   "cell_type": "markdown",
   "metadata": {},
   "source": [
    "- <font color='Yellow'>What is NVIDIA?</font>\n",
    "\n",
    "NVIDIA is known for developing integrated circuits, which are used in everything from electronic game consoles to personal computers (PCs). The company is a leading manufacturer of high-end graphics processing units (GPUs).\n",
    "\n",
    "A driver is a software that enables the operating system to communicate with hardware or a device. Thus, for an NVIDIA graphics driver, it allows the OS to communicate with the video card, ensuring that it functions properly.\n",
    "\n",
    "You need to have a real, physical NVIDIA graphics card in order to install NVIDIA drivers.\n",
    "\n",
    "Link: https://helpx.adobe.com/x-productkb/multi/drivers-video-win-nvidia.html\n",
    "\n",
    "- <font color='Yellow'>What is CUDA?</font>\n",
    "\n",
    "NVIDIA provides something called the Compute Unified Device Architecture (CUDA), which is crucial for supporting the various deep learning applications. \n",
    "\n",
    "CUDA is a framework that allows people with a Nvidia Graphics Card to use GPU acceleration when it comes to deep learning. \n",
    "\n",
    "Link: https://developer.nvidia.com/cuda-downloads\n",
    "\n",
    "- <font color='Yellow'>What is cuDNN?</font>\n",
    "\n",
    "The cuDNN library is a library optimized for CUDA containing GPU implementations. Think of cuDNN as a library for Deep Learning using CUDA and CUDA as a way to talk to the GPU.\n",
    "\n",
    "Link: https://docs.nvidia.com/deeplearning/cudnn/install-guide/index.html\n"
   ]
  },
  {
   "attachments": {},
   "cell_type": "markdown",
   "metadata": {},
   "source": [
    "Install TensorFlow"
   ]
  },
  {
   "attachments": {},
   "cell_type": "markdown",
   "metadata": {},
   "source": [
    "Activate virtual environment (copy/paste to terminal):\n",
    "\n",
    "spot_env\\Scripts\\activate"
   ]
  },
  {
   "cell_type": "code",
   "execution_count": null,
   "metadata": {},
   "outputs": [],
   "source": [
    "# Tensorflow likes to install a non-GUI version of OpenCV, which will cause us problems later\n",
    "# We can safely uninstall it because we already installed OpenCV.\n",
    "\n",
    "!py.exe -3 -m pip install --upgrade pip\n",
    "!py.exe -3 -m pip install tensorflow-gpu==2.3.1 tensorflow==2.3.1 tensorboard==2.3.0 tf-models-official==2.3.0 pycocotools lvis\n",
    "!py.exe -3 -m pip uninstall opencv-python-headless"
   ]
  },
  {
   "cell_type": "code",
   "execution_count": 6,
   "metadata": {},
   "outputs": [
    {
     "name": "stdout",
     "output_type": "stream",
     "text": [
      "Num GPUs Available:  0\n"
     ]
    }
   ],
   "source": [
    "# Test TensorFlow and CUDA installation (you should have at least 1 GPU as a result):\n",
    "import tensorflow as tf\n",
    "print(\"Num GPUs Available: \", len(tf.config.list_physical_devices('GPU')))"
   ]
  },
  {
   "attachments": {},
   "cell_type": "markdown",
   "metadata": {},
   "source": [
    "Install TensorFlow Object Detection API"
   ]
  },
  {
   "cell_type": "code",
   "execution_count": null,
   "metadata": {},
   "outputs": [],
   "source": [
    "# Download our package with the precompiled files and save it in the fetch folder\n",
    "unzip models-with-protos.zip\n",
    "\n",
    "# Install the object detection API:\n",
    "# cd models-with-protos/research\n",
    "!py.exe -3 -m pip install ."
   ]
  },
  {
   "attachments": {},
   "cell_type": "markdown",
   "metadata": {},
   "source": [
    "## Prepare Training Data"
   ]
  },
  {
   "attachments": {},
   "cell_type": "markdown",
   "metadata": {},
   "source": [
    "First convert JSON files to XML files"
   ]
  },
  {
   "cell_type": "code",
   "execution_count": null,
   "metadata": {},
   "outputs": [],
   "source": [
    "!py.exe -3 -m pip install json2xml\n",
    "!py.exe -3 -m pip install dict2xml\n",
    "\n",
    "import json2xml\n",
    "import dict2xml"
   ]
  },
  {
   "cell_type": "code",
   "execution_count": 7,
   "metadata": {},
   "outputs": [],
   "source": [
    "def json2xml(json_obj, line_padding=\"\"):\n",
    "    \n",
    "    result_list = list()\n",
    "\n",
    "    json_obj_type = type(json_obj)\n",
    "\n",
    "    if json_obj_type is list:\n",
    "        for sub_elem in json_obj:\n",
    "            result_list.append(json2xml(sub_elem, line_padding))\n",
    "\n",
    "        return \"\\n\".join(result_list)\n",
    "\n",
    "    if json_obj_type is dict:\n",
    "        for tag_name in json_obj:\n",
    "            sub_obj = json_obj[tag_name]\n",
    "            result_list.append(\"%s<%s>\" % (line_padding, tag_name))\n",
    "            result_list.append(json2xml(sub_obj, \"\\t\" + line_padding))\n",
    "            result_list.append(\"%s</%s>\" % (line_padding, tag_name))\n",
    "\n",
    "        return \"\\n\".join(result_list)\n",
    "\n",
    "    return \"%s%s\" % (line_padding, json_obj)"
   ]
  },
  {
   "cell_type": "code",
   "execution_count": 27,
   "metadata": {},
   "outputs": [],
   "source": [
    "import json\n",
    "\n",
    "path = 'C:/Users/AD655YE/OneDrive - EY\\Desktop/Spot/Object detection/fetch/dogtoy/annotations/'\n",
    "image = 'back_fisheye_image_0000'\n",
    "\n",
    "with open(f\"{path}{image}.json\") as input_var:\n",
    "    j = load(input_var)\n",
    "\n",
    "x = json2xml(j)\n",
    "#print(x)\n",
    "\n",
    "with open(f\"{path}{image}.xml\", mode='w') as out:\n",
    "    out.write(x)"
   ]
  },
  {
   "attachments": {},
   "cell_type": "markdown",
   "metadata": {},
   "source": [
    "\n",
    "Partition the data into training and test sets. Download the script split_dataset.py and put it in the ~/fetch folder. Run the script to copy the XML label files into the train and test folders, splitting them up randomly."
   ]
  },
  {
   "cell_type": "code",
   "execution_count": null,
   "metadata": {},
   "outputs": [],
   "source": [
    "# cd ~/fetch\n",
    "!python split_dataset.py --labels-dir dogtoy/annotations/ --output-dir dogtoy/annotations/ --ratio 0.9"
   ]
  },
  {
   "attachments": {},
   "cell_type": "markdown",
   "metadata": {},
   "source": [
    "Create a label map by creating a file called label_map.pbtxt and put it in dogtoy/annotations. \n",
    "\n",
    "Convert labels to .record format. Download the script generate_tfrecord.py and place it in the fetch directory."
   ]
  },
  {
   "cell_type": "code",
   "execution_count": null,
   "metadata": {},
   "outputs": [],
   "source": [
    "# run for training set\n",
    "!py.exe -3 generate_tfrecord.py --xml_dir dogtoy/annotations/train --image_dir dogtoy/images --labels_path dogtoy/annotations/label_map.pbtxt --output_path dogtoy/annotations/train.record\n",
    "\n",
    "# run again for test set\n",
    "!py.exe -3 generate_tfrecord.py --xml_dir dogtoy/annotations/test --image_dir dogtoy/images --labels_path dogtoy/annotations/label_map.pbtxt --output_path dogtoy/annotations/test.record"
   ]
  },
  {
   "attachments": {},
   "cell_type": "markdown",
   "metadata": {},
   "source": [
    "## Train the Model"
   ]
  },
  {
   "attachments": {},
   "cell_type": "markdown",
   "metadata": {},
   "source": [
    "Download Transfer Learning Model:\n",
    "\n",
    "Make a pre-trained-models folder: \n",
    "\n",
    "mkdir dogtoy/pre-trained-models\n",
    "\n",
    "We'll use the SSD ResNet50 V1 FPN 640x640 model. Download it into the ~/fetch/dogtoy/pre-trained-models folder. The TensorFlow Model Zoo has lots of other models you could use.\n",
    "\n",
    "Extract it:\n",
    "\n",
    "cd dogtoy/pre-trained-models\n",
    "tar -zxvf ssd_resnet50_v1_fpn_640x640_coco17_tpu-8.tar.gz"
   ]
  },
  {
   "attachments": {},
   "cell_type": "markdown",
   "metadata": {},
   "source": [
    "Set up model parameters:\n",
    "\n",
    "Make a folder for our new model: \n",
    "\n",
    "cd ~/fetch/dogtoy\n",
    "mkdir -p models/my_ssd_resnet50_v1_fpn\n",
    "\n",
    "Copy the pre-trained model parameters:\n",
    "\n",
    "cp pre-trained-models/ssd_resnet50_v1_fpn_640x640_coco17_tpu-8/pipeline.config models/my_ssd_resnet50_v1_fpn/"
   ]
  }
 ],
 "metadata": {
  "kernelspec": {
   "display_name": "Python 3",
   "language": "python",
   "name": "python3"
  },
  "language_info": {
   "codemirror_mode": {
    "name": "ipython",
    "version": 3
   },
   "file_extension": ".py",
   "mimetype": "text/x-python",
   "name": "python",
   "nbconvert_exporter": "python",
   "pygments_lexer": "ipython3",
   "version": "3.8.3"
  },
  "orig_nbformat": 4,
  "vscode": {
   "interpreter": {
    "hash": "7fc67c13344c5f1edcd76308074e4169cd84e7df1f7747bc423986afb27712a5"
   }
  }
 },
 "nbformat": 4,
 "nbformat_minor": 2
}
