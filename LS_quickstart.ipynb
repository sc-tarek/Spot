{
 "cells": [
  {
   "attachments": {},
   "cell_type": "markdown",
   "id": "de855ed6",
   "metadata": {},
   "source": [
    "System setup: https://dev.bostondynamics.com/docs/python/quickstart#system-setup"
   ]
  },
  {
   "cell_type": "code",
   "execution_count": 18,
   "id": "a3c11377",
   "metadata": {},
   "outputs": [
    {
     "name": "stdout",
     "output_type": "stream",
     "text": [
      "Python 3.8.3\n",
      "pip 22.3.1 from C:\\Users\\AD655YE\\OneDrive - EY\\Desktop\\spot-sdk\\spot_env\\lib\\site-packages\\pip (python 3.8)\n",
      "\n"
     ]
    }
   ],
   "source": [
    "!python --version\n",
    "!pip --version"
   ]
  },
  {
   "cell_type": "code",
   "execution_count": 33,
   "id": "297bdee0",
   "metadata": {},
   "outputs": [
    {
     "name": "stdout",
     "output_type": "stream",
     "text": [
      "Collecting virtualenv\n",
      "  Using cached https://files.pythonhosted.org/packages/18/a2/7931d40ecb02b5236a34ac53770f2f6931e3082b7a7dafe915d892d749d6/virtualenv-20.17.1-py3-none-any.whl\n",
      "Collecting filelock<4,>=3.4.1 (from virtualenv)\n",
      "  Using cached https://files.pythonhosted.org/packages/14/4c/b201d0292ca4e0950f0741212935eac9996f69cd66b92a3587e594999163/filelock-3.9.0-py3-none-any.whl\n",
      "Collecting distlib<1,>=0.3.6 (from virtualenv)\n",
      "  Using cached https://files.pythonhosted.org/packages/76/cb/6bbd2b10170ed991cf64e8c8b85e01f2fb38f95d1bc77617569e0b0b26ac/distlib-0.3.6-py2.py3-none-any.whl\n",
      "Requirement already satisfied: platformdirs<3,>=2.4 in c:\\users\\ad655ye\\appdata\\roaming\\python\\python38\\site-packages (from virtualenv) (2.6.2)\n",
      "Installing collected packages: filelock, distlib, virtualenv\n",
      "Successfully installed distlib-0.3.6 filelock-3.9.0 virtualenv-20.17.1\n"
     ]
    },
    {
     "name": "stderr",
     "output_type": "stream",
     "text": [
      "  WARNING: The script virtualenv.exe is installed in 'C:\\Users\\AD655YE\\AppData\\Local\\Programs\\Python\\Python38\\Scripts' which is not on PATH.\n",
      "  Consider adding this directory to PATH or, if you prefer to suppress this warning, use --no-warn-script-location.\n",
      "WARNING: You are using pip version 19.2.3, however version 22.3.1 is available.\n",
      "You should consider upgrading via the 'python -m pip install --upgrade pip' command.\n"
     ]
    }
   ],
   "source": [
    "!py.exe -3.8 -m pip install virtualenv"
   ]
  },
  {
   "cell_type": "code",
   "execution_count": 38,
   "id": "95a28933",
   "metadata": {},
   "outputs": [
    {
     "name": "stdout",
     "output_type": "stream",
     "text": [
      "created virtual environment CPython3.8.3.final.0-64 in 12465ms\n",
      "  creator CPython3Windows(dest=C:\\Users\\AD655YE\\OneDrive - EY\\Desktop\\spot-sdk\\spot_env, clear=False, no_vcs_ignore=False, global=False)\n",
      "  seeder FromAppData(download=False, pip=bundle, setuptools=bundle, wheel=bundle, via=copy, app_data_dir=C:\\Users\\AD655YE\\AppData\\Local\\pypa\\virtualenv)\n",
      "    added seed packages: pip==22.3.1, setuptools==65.6.3, wheel==0.38.4\n",
      "  activators BashActivator,BatchActivator,FishActivator,NushellActivator,PowerShellActivator,PythonActivator\n"
     ]
    }
   ],
   "source": [
    "!py.exe -3.8 -m virtualenv spot_env"
   ]
  },
  {
   "attachments": {},
   "cell_type": "markdown",
   "id": "c77cb8ae",
   "metadata": {},
   "source": [
    "In cmd: \n",
    "\n",
    ".\\spot_env\\Scripts\\activate.bat\n",
    "\n",
    "pip install --upgrade bosdyn-client bosdyn-mission bosdyn-choreography-client"
   ]
  },
  {
   "cell_type": "code",
   "execution_count": null,
   "id": "1293f7d8",
   "metadata": {},
   "outputs": [],
   "source": [
    "!pip list --format=columns | findstr bosdyn"
   ]
  },
  {
   "cell_type": "code",
   "execution_count": null,
   "id": "cfd39a17",
   "metadata": {},
   "outputs": [],
   "source": [
    "import bosdyn.client"
   ]
  },
  {
   "attachments": {},
   "cell_type": "markdown",
   "id": "4b933b8b",
   "metadata": {},
   "source": [
    "Power on Spot by holding the power button down until the fans start. Wait for the fans to turn off (and maybe 10-20 seconds after that). Connect to Spot via wifi.\n",
    "\n",
    "Ping spot at 192.168.80.3"
   ]
  },
  {
   "cell_type": "code",
   "execution_count": 12,
   "id": "8455a4c8",
   "metadata": {},
   "outputs": [
    {
     "name": "stdout",
     "output_type": "stream",
     "text": [
      "\n",
      "Pinging 192.168.80.3 with 32 bytes of data:\n",
      "Reply from 192.168.80.3: bytes=32 time=7ms TTL=64\n",
      "Reply from 192.168.80.3: bytes=32 time=6ms TTL=64\n",
      "Reply from 192.168.80.3: bytes=32 time=6ms TTL=64\n",
      "Reply from 192.168.80.3: bytes=32 time=6ms TTL=64\n",
      "\n",
      "Ping statistics for 192.168.80.3:\n",
      "    Packets: Sent = 4, Received = 4, Lost = 0 (0% loss),\n",
      "Approximate round trip times in milli-seconds:\n",
      "    Minimum = 6ms, Maximum = 7ms, Average = 6ms\n"
     ]
    }
   ],
   "source": [
    "!ping 192.168.80.3"
   ]
  },
  {
   "attachments": {},
   "cell_type": "markdown",
   "id": "a30e4428",
   "metadata": {},
   "source": [
    "Request Spot robot’s ID"
   ]
  },
  {
   "cell_type": "code",
   "execution_count": 11,
   "id": "4e7ae023",
   "metadata": {},
   "outputs": [
    {
     "name": "stderr",
     "output_type": "stream",
     "text": [
      "E0124 14:45:00.724000000 14280 src/core/ext/transport/chttp2/transport/hpack_parser.cc:1218] Error parsing metadata: error=invalid value key=content-type value=text/html\n",
      "UnimplementedError: UnimplementedError: The API does not recognize the request and is unable to complete the request.\n"
     ]
    }
   ],
   "source": [
    "!py.exe -3 -m bosdyn.client 192.168.80.3 id"
   ]
  },
  {
   "attachments": {},
   "cell_type": "markdown",
   "id": "0bb2e02a",
   "metadata": {},
   "source": [
    "Get a copy of the full SDK distribution from github: git clone https://github.com/boston-dynamics/spot-sdk.git\n",
    "\n",
    "Run Hello Spot:\n",
    "\n",
    "cd ~/spot-sdk/python/examples/hello_spot # or wherever you installed Spot SDK\n",
    "\n",
    "py.exe -3 -m pip install -r requirements.txt # will install dependent packages\n",
    "\n",
    "export BOSDYN_CLIENT_USERNAME=user \n",
    "\n",
    "export BOSDYN_CLIENT_PASSWORD=password \n",
    "\n",
    "py.exe -3 hello_spot.py 192.168.80.3"
   ]
  },
  {
   "attachments": {},
   "cell_type": "markdown",
   "id": "6fb9e4ac",
   "metadata": {},
   "source": [
    "Username: admin\n",
    "[admin] Password:\n",
    "2023-01-24 13:19:03,430 - ERROR - Hello, Spot! threw an exception: ResourceAlreadyClaimedError()\n",
    "\n",
    "Username: lise.styve@dk.ey.com\n",
    "[lise.styve@dk.ey.com] Password: \n",
    "2023-01-24 13:25:46,127 - ERROR - Hello, Spot! threw an exception: InvalidLoginError()"
   ]
  },
  {
   "attachments": {},
   "cell_type": "markdown",
   "id": "47626f96",
   "metadata": {},
   "source": [
    "Run an independent E-Stop\n",
    "\n",
    "cd ~/spot-sdk/python/examples/estop # or wherever you installed Spot SDK\n",
    "\n",
    "py.exe -3 -m pip install -r requirements.txt # will install dependent packages\n",
    "\n",
    "py.exe -3 estop_nogui.py 192.168.80.3\n",
    "\n",
    "py.exe -3 estop_gui.py 192.168.80.3"
   ]
  },
  {
   "cell_type": "code",
   "execution_count": null,
   "id": "968ab547",
   "metadata": {},
   "outputs": [],
   "source": []
  }
 ],
 "metadata": {
  "kernelspec": {
   "display_name": "Python 3.8.3 ('spot_env': venv)",
   "language": "python",
   "name": "python3"
  },
  "language_info": {
   "codemirror_mode": {
    "name": "ipython",
    "version": 3
   },
   "file_extension": ".py",
   "mimetype": "text/x-python",
   "name": "python",
   "nbconvert_exporter": "python",
   "pygments_lexer": "ipython3",
   "version": "3.8.3"
  },
  "toc": {
   "base_numbering": 1,
   "nav_menu": {},
   "number_sections": true,
   "sideBar": true,
   "skip_h1_title": false,
   "title_cell": "Table of Contents",
   "title_sidebar": "Contents",
   "toc_cell": false,
   "toc_position": {},
   "toc_section_display": true,
   "toc_window_display": false
  },
  "vscode": {
   "interpreter": {
    "hash": "939880c993fa7c5e1d39dbbd34467664a0ec59605627b0bbd32a60c6aa9fcacf"
   }
  }
 },
 "nbformat": 4,
 "nbformat_minor": 5
}
